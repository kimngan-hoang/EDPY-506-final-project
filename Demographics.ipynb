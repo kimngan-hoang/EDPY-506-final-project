{
 "cells": [
  {
   "cell_type": "code",
   "execution_count": 15,
   "id": "80196caf",
   "metadata": {},
   "outputs": [],
   "source": [
    "# Global Imports\n",
    "import numpy as np   \n",
    "import pandas as pd\n",
    "import seaborn as sns\n",
    "import matplotlib.pyplot as plt   # plotting"
   ]
  },
  {
   "cell_type": "code",
   "execution_count": 19,
   "id": "1f769505",
   "metadata": {},
   "outputs": [
    {
     "data": {
      "text/html": [
       "<div>\n",
       "<style scoped>\n",
       "    .dataframe tbody tr th:only-of-type {\n",
       "        vertical-align: middle;\n",
       "    }\n",
       "\n",
       "    .dataframe tbody tr th {\n",
       "        vertical-align: top;\n",
       "    }\n",
       "\n",
       "    .dataframe thead th {\n",
       "        text-align: right;\n",
       "    }\n",
       "</style>\n",
       "<table border=\"1\" class=\"dataframe\">\n",
       "  <thead>\n",
       "    <tr style=\"text-align: right;\">\n",
       "      <th></th>\n",
       "      <th>Unnamed: 0.1</th>\n",
       "      <th>Unnamed: 0</th>\n",
       "      <th>pnrnmlif</th>\n",
       "      <th>CATAG6</th>\n",
       "      <th>NEWRACE2</th>\n",
       "      <th>irsex</th>\n",
       "      <th>sexident</th>\n",
       "      <th>IREDUHIGHST2</th>\n",
       "      <th>irwrkstat</th>\n",
       "      <th>IRPINC3</th>\n",
       "      <th>...</th>\n",
       "      <th>RaceEth_black</th>\n",
       "      <th>RaceEth_native</th>\n",
       "      <th>RaceEth_islander</th>\n",
       "      <th>RaceEth_asian</th>\n",
       "      <th>RaceEth_multi</th>\n",
       "      <th>RaceEth_hisp</th>\n",
       "      <th>wrkstat_empfull</th>\n",
       "      <th>wrkstat_emppart</th>\n",
       "      <th>wrkstat_unemp</th>\n",
       "      <th>wrkstat_other</th>\n",
       "    </tr>\n",
       "  </thead>\n",
       "  <tbody>\n",
       "    <tr>\n",
       "      <th>count</th>\n",
       "      <td>5462.000000</td>\n",
       "      <td>5462.000000</td>\n",
       "      <td>5462.000000</td>\n",
       "      <td>5462.000000</td>\n",
       "      <td>5462.000000</td>\n",
       "      <td>5462.000000</td>\n",
       "      <td>5462.000000</td>\n",
       "      <td>5462.000000</td>\n",
       "      <td>5462.000000</td>\n",
       "      <td>5462.000000</td>\n",
       "      <td>...</td>\n",
       "      <td>5462.000000</td>\n",
       "      <td>5462.000000</td>\n",
       "      <td>5462.000000</td>\n",
       "      <td>5462.000000</td>\n",
       "      <td>5462.000000</td>\n",
       "      <td>5462.000000</td>\n",
       "      <td>5462.000000</td>\n",
       "      <td>5462.000000</td>\n",
       "      <td>5462.000000</td>\n",
       "      <td>5462.000000</td>\n",
       "    </tr>\n",
       "    <tr>\n",
       "      <th>mean</th>\n",
       "      <td>2730.500000</td>\n",
       "      <td>16760.034969</td>\n",
       "      <td>0.500000</td>\n",
       "      <td>3.515196</td>\n",
       "      <td>2.221531</td>\n",
       "      <td>0.541743</td>\n",
       "      <td>6.174844</td>\n",
       "      <td>9.419443</td>\n",
       "      <td>2.084401</td>\n",
       "      <td>3.804467</td>\n",
       "      <td>...</td>\n",
       "      <td>0.074698</td>\n",
       "      <td>0.007873</td>\n",
       "      <td>0.003479</td>\n",
       "      <td>0.039729</td>\n",
       "      <td>0.038997</td>\n",
       "      <td>0.127792</td>\n",
       "      <td>0.522885</td>\n",
       "      <td>0.140791</td>\n",
       "      <td>0.065361</td>\n",
       "      <td>0.270963</td>\n",
       "    </tr>\n",
       "    <tr>\n",
       "      <th>std</th>\n",
       "      <td>1576.887916</td>\n",
       "      <td>9513.330853</td>\n",
       "      <td>0.500046</td>\n",
       "      <td>1.231658</td>\n",
       "      <td>2.203938</td>\n",
       "      <td>0.498300</td>\n",
       "      <td>21.237472</td>\n",
       "      <td>1.671637</td>\n",
       "      <td>1.290457</td>\n",
       "      <td>2.193328</td>\n",
       "      <td>...</td>\n",
       "      <td>0.262927</td>\n",
       "      <td>0.088386</td>\n",
       "      <td>0.058882</td>\n",
       "      <td>0.195340</td>\n",
       "      <td>0.193605</td>\n",
       "      <td>0.333889</td>\n",
       "      <td>0.499522</td>\n",
       "      <td>0.347838</td>\n",
       "      <td>0.247184</td>\n",
       "      <td>0.444498</td>\n",
       "    </tr>\n",
       "    <tr>\n",
       "      <th>min</th>\n",
       "      <td>0.000000</td>\n",
       "      <td>27.000000</td>\n",
       "      <td>0.000000</td>\n",
       "      <td>2.000000</td>\n",
       "      <td>1.000000</td>\n",
       "      <td>0.000000</td>\n",
       "      <td>1.000000</td>\n",
       "      <td>1.000000</td>\n",
       "      <td>1.000000</td>\n",
       "      <td>1.000000</td>\n",
       "      <td>...</td>\n",
       "      <td>0.000000</td>\n",
       "      <td>0.000000</td>\n",
       "      <td>0.000000</td>\n",
       "      <td>0.000000</td>\n",
       "      <td>0.000000</td>\n",
       "      <td>0.000000</td>\n",
       "      <td>0.000000</td>\n",
       "      <td>0.000000</td>\n",
       "      <td>0.000000</td>\n",
       "      <td>0.000000</td>\n",
       "    </tr>\n",
       "    <tr>\n",
       "      <th>25%</th>\n",
       "      <td>1365.250000</td>\n",
       "      <td>8494.250000</td>\n",
       "      <td>0.000000</td>\n",
       "      <td>2.000000</td>\n",
       "      <td>1.000000</td>\n",
       "      <td>0.000000</td>\n",
       "      <td>1.000000</td>\n",
       "      <td>8.000000</td>\n",
       "      <td>1.000000</td>\n",
       "      <td>2.000000</td>\n",
       "      <td>...</td>\n",
       "      <td>0.000000</td>\n",
       "      <td>0.000000</td>\n",
       "      <td>0.000000</td>\n",
       "      <td>0.000000</td>\n",
       "      <td>0.000000</td>\n",
       "      <td>0.000000</td>\n",
       "      <td>0.000000</td>\n",
       "      <td>0.000000</td>\n",
       "      <td>0.000000</td>\n",
       "      <td>0.000000</td>\n",
       "    </tr>\n",
       "    <tr>\n",
       "      <th>50%</th>\n",
       "      <td>2730.500000</td>\n",
       "      <td>16877.000000</td>\n",
       "      <td>0.500000</td>\n",
       "      <td>4.000000</td>\n",
       "      <td>1.000000</td>\n",
       "      <td>1.000000</td>\n",
       "      <td>1.000000</td>\n",
       "      <td>9.000000</td>\n",
       "      <td>1.000000</td>\n",
       "      <td>4.000000</td>\n",
       "      <td>...</td>\n",
       "      <td>0.000000</td>\n",
       "      <td>0.000000</td>\n",
       "      <td>0.000000</td>\n",
       "      <td>0.000000</td>\n",
       "      <td>0.000000</td>\n",
       "      <td>0.000000</td>\n",
       "      <td>1.000000</td>\n",
       "      <td>0.000000</td>\n",
       "      <td>0.000000</td>\n",
       "      <td>0.000000</td>\n",
       "    </tr>\n",
       "    <tr>\n",
       "      <th>75%</th>\n",
       "      <td>4095.750000</td>\n",
       "      <td>25071.250000</td>\n",
       "      <td>1.000000</td>\n",
       "      <td>4.000000</td>\n",
       "      <td>2.000000</td>\n",
       "      <td>1.000000</td>\n",
       "      <td>1.000000</td>\n",
       "      <td>11.000000</td>\n",
       "      <td>4.000000</td>\n",
       "      <td>6.000000</td>\n",
       "      <td>...</td>\n",
       "      <td>0.000000</td>\n",
       "      <td>0.000000</td>\n",
       "      <td>0.000000</td>\n",
       "      <td>0.000000</td>\n",
       "      <td>0.000000</td>\n",
       "      <td>0.000000</td>\n",
       "      <td>1.000000</td>\n",
       "      <td>0.000000</td>\n",
       "      <td>0.000000</td>\n",
       "      <td>1.000000</td>\n",
       "    </tr>\n",
       "    <tr>\n",
       "      <th>max</th>\n",
       "      <td>5461.000000</td>\n",
       "      <td>32877.000000</td>\n",
       "      <td>1.000000</td>\n",
       "      <td>6.000000</td>\n",
       "      <td>7.000000</td>\n",
       "      <td>1.000000</td>\n",
       "      <td>98.000000</td>\n",
       "      <td>11.000000</td>\n",
       "      <td>4.000000</td>\n",
       "      <td>7.000000</td>\n",
       "      <td>...</td>\n",
       "      <td>1.000000</td>\n",
       "      <td>1.000000</td>\n",
       "      <td>1.000000</td>\n",
       "      <td>1.000000</td>\n",
       "      <td>1.000000</td>\n",
       "      <td>1.000000</td>\n",
       "      <td>1.000000</td>\n",
       "      <td>1.000000</td>\n",
       "      <td>1.000000</td>\n",
       "      <td>1.000000</td>\n",
       "    </tr>\n",
       "  </tbody>\n",
       "</table>\n",
       "<p>8 rows × 41 columns</p>\n",
       "</div>"
      ],
      "text/plain": [
       "       Unnamed: 0.1    Unnamed: 0     pnrnmlif       CATAG6     NEWRACE2  \\\n",
       "count   5462.000000   5462.000000  5462.000000  5462.000000  5462.000000   \n",
       "mean    2730.500000  16760.034969     0.500000     3.515196     2.221531   \n",
       "std     1576.887916   9513.330853     0.500046     1.231658     2.203938   \n",
       "min        0.000000     27.000000     0.000000     2.000000     1.000000   \n",
       "25%     1365.250000   8494.250000     0.000000     2.000000     1.000000   \n",
       "50%     2730.500000  16877.000000     0.500000     4.000000     1.000000   \n",
       "75%     4095.750000  25071.250000     1.000000     4.000000     2.000000   \n",
       "max     5461.000000  32877.000000     1.000000     6.000000     7.000000   \n",
       "\n",
       "             irsex     sexident  IREDUHIGHST2    irwrkstat      IRPINC3  ...  \\\n",
       "count  5462.000000  5462.000000   5462.000000  5462.000000  5462.000000  ...   \n",
       "mean      0.541743     6.174844      9.419443     2.084401     3.804467  ...   \n",
       "std       0.498300    21.237472      1.671637     1.290457     2.193328  ...   \n",
       "min       0.000000     1.000000      1.000000     1.000000     1.000000  ...   \n",
       "25%       0.000000     1.000000      8.000000     1.000000     2.000000  ...   \n",
       "50%       1.000000     1.000000      9.000000     1.000000     4.000000  ...   \n",
       "75%       1.000000     1.000000     11.000000     4.000000     6.000000  ...   \n",
       "max       1.000000    98.000000     11.000000     4.000000     7.000000  ...   \n",
       "\n",
       "       RaceEth_black  RaceEth_native  RaceEth_islander  RaceEth_asian  \\\n",
       "count    5462.000000     5462.000000       5462.000000    5462.000000   \n",
       "mean        0.074698        0.007873          0.003479       0.039729   \n",
       "std         0.262927        0.088386          0.058882       0.195340   \n",
       "min         0.000000        0.000000          0.000000       0.000000   \n",
       "25%         0.000000        0.000000          0.000000       0.000000   \n",
       "50%         0.000000        0.000000          0.000000       0.000000   \n",
       "75%         0.000000        0.000000          0.000000       0.000000   \n",
       "max         1.000000        1.000000          1.000000       1.000000   \n",
       "\n",
       "       RaceEth_multi  RaceEth_hisp  wrkstat_empfull  wrkstat_emppart  \\\n",
       "count    5462.000000   5462.000000      5462.000000      5462.000000   \n",
       "mean        0.038997      0.127792         0.522885         0.140791   \n",
       "std         0.193605      0.333889         0.499522         0.347838   \n",
       "min         0.000000      0.000000         0.000000         0.000000   \n",
       "25%         0.000000      0.000000         0.000000         0.000000   \n",
       "50%         0.000000      0.000000         1.000000         0.000000   \n",
       "75%         0.000000      0.000000         1.000000         0.000000   \n",
       "max         1.000000      1.000000         1.000000         1.000000   \n",
       "\n",
       "       wrkstat_unemp  wrkstat_other  \n",
       "count    5462.000000    5462.000000  \n",
       "mean        0.065361       0.270963  \n",
       "std         0.247184       0.444498  \n",
       "min         0.000000       0.000000  \n",
       "25%         0.000000       0.000000  \n",
       "50%         0.000000       0.000000  \n",
       "75%         0.000000       1.000000  \n",
       "max         1.000000       1.000000  \n",
       "\n",
       "[8 rows x 41 columns]"
      ]
     },
     "execution_count": 19,
     "metadata": {},
     "output_type": "execute_result"
    }
   ],
   "source": [
    "#Import dataset\n",
    "df = pd.read_csv(\"C:/Users/kimng/Desktop/EDPY506/Final Project/data_final.csv\", low_memory=False)\n",
    "df = df.reset_index(drop=True)\n",
    "df.describe()"
   ]
  },
  {
   "cell_type": "code",
   "execution_count": 7,
   "id": "58a8b878",
   "metadata": {},
   "outputs": [
    {
     "name": "stdout",
     "output_type": "stream",
     "text": [
      "4    1678\n",
      "2    1457\n",
      "3    1266\n",
      "5     590\n",
      "6     471\n",
      "Name: CATAG6, dtype: int64\n"
     ]
    },
    {
     "data": {
      "image/png": "[encoded data removed]",
      "text/plain": [
       "<Figure size 432x288 with 1 Axes>"
      ]
     },
     "metadata": {
      "needs_background": "light"
     },
     "output_type": "display_data"
    }
   ],
   "source": [
    "#Count number of cases by unique values\n",
    "print(df.CATAG6.value_counts()) \n",
    "#Visualize misuse status by age group\n",
    "plt.figure()\n",
    "sns.heatmap(pd.crosstab(index=df.CATAG6, \n",
    "                        columns=[df.pnrnmlif]),\n",
    "            cmap=\"YlGnBu\", annot=True, fmt='.4g', cbar=False)\n",
    "plt.show()"
   ]
  },
  {
   "cell_type": "code",
   "execution_count": 8,
   "id": "ae29538e",
   "metadata": {},
   "outputs": [
    {
     "name": "stdout",
     "output_type": "stream",
     "text": [
      "1    2959\n",
      "0    2503\n",
      "Name: irsex, dtype: int64\n"
     ]
    },
    {
     "data": {
      "image/png": "[encoded data removed]",
      "text/plain": [
       "<Figure size 432x288 with 1 Axes>"
      ]
     },
     "metadata": {
      "needs_background": "light"
     },
     "output_type": "display_data"
    }
   ],
   "source": [
    "#Count number of cases by unique values\n",
    "print(df.irsex.value_counts()) \n",
    "#Visualize misuse status by sex group\n",
    "plt.figure()\n",
    "sns.heatmap(pd.crosstab(index=df.irsex, \n",
    "                        columns=[df.pnrnmlif]),\n",
    "            cmap=\"YlGnBu\", annot=True, fmt='.4g', cbar=False)\n",
    "plt.show()"
   ]
  },
  {
   "cell_type": "code",
   "execution_count": 9,
   "id": "fca46132",
   "metadata": {},
   "outputs": [
    {
     "data": {
      "image/png": "[encoded data removed]",
      "text/plain": [
       "<Figure size 432x288 with 1 Axes>"
      ]
     },
     "metadata": {
      "needs_background": "light"
     },
     "output_type": "display_data"
    },
    {
     "data": {
      "text/plain": [
       "1    3864\n",
       "7     698\n",
       "2     408\n",
       "5     217\n",
       "6     213\n",
       "3      43\n",
       "4      19\n",
       "Name: NEWRACE2, dtype: int64"
      ]
     },
     "execution_count": 9,
     "metadata": {},
     "output_type": "execute_result"
    }
   ],
   "source": [
    "#Visualize misuse status by race/ethnicity group\n",
    "plt.figure()\n",
    "sns.heatmap(pd.crosstab(index=df.NEWRACE2, \n",
    "                        columns=[df.pnrnmlif]),\n",
    "            cmap=\"YlGnBu\", annot=True, fmt='.5g', cbar=False)\n",
    "plt.show()\n",
    "\n",
    "df.NEWRACE2.value_counts() "
   ]
  },
  {
   "cell_type": "code",
   "execution_count": 10,
   "id": "fd56d02b",
   "metadata": {},
   "outputs": [
    {
     "data": {
      "image/png": "[encoded data removed]",
      "text/plain": [
       "<Figure size 432x288 with 1 Axes>"
      ]
     },
     "metadata": {
      "needs_background": "light"
     },
     "output_type": "display_data"
    },
    {
     "data": {
      "text/plain": [
       "11    2153\n",
       "9     1283\n",
       "8     1125\n",
       "10     489\n",
       "7      204\n",
       "6       74\n",
       "5       48\n",
       "4       31\n",
       "1       27\n",
       "2       18\n",
       "3       10\n",
       "Name: IREDUHIGHST2, dtype: int64"
      ]
     },
     "execution_count": 10,
     "metadata": {},
     "output_type": "execute_result"
    }
   ],
   "source": [
    "#Visualize misuse status by education\n",
    "plt.figure()\n",
    "sns.heatmap(pd.crosstab(index=df.IREDUHIGHST2, \n",
    "                        columns=[df.pnrnmlif]),\n",
    "            cmap=\"YlGnBu\", annot=True, fmt='.5g', cbar=False)\n",
    "plt.show()\n",
    "\n",
    "df.IREDUHIGHST2.value_counts() "
   ]
  },
  {
   "cell_type": "code",
   "execution_count": 12,
   "id": "eae29a1a",
   "metadata": {},
   "outputs": [
    {
     "data": {
      "image/png": "[encoded data removed]",
      "text/plain": [
       "<Figure size 432x288 with 1 Axes>"
      ]
     },
     "metadata": {
      "needs_background": "light"
     },
     "output_type": "display_data"
    },
    {
     "data": {
      "text/plain": [
       "1    2856\n",
       "4    1480\n",
       "2     769\n",
       "3     357\n",
       "Name: irwrkstat, dtype: int64"
      ]
     },
     "execution_count": 12,
     "metadata": {},
     "output_type": "execute_result"
    }
   ],
   "source": [
    "#Visualize misuse status by education\n",
    "plt.figure()\n",
    "sns.heatmap(pd.crosstab(index=df.irwrkstat, \n",
    "                        columns=[df.pnrnmlif]),\n",
    "            cmap=\"YlGnBu\", annot=True, fmt='.5g', cbar=False)\n",
    "plt.show()\n",
    "\n",
    "df.irwrkstat.value_counts() "
   ]
  },
  {
   "cell_type": "code",
   "execution_count": 13,
   "id": "ff04c3bc",
   "metadata": {},
   "outputs": [
    {
     "data": {
      "image/png": "[encoded data removed]",
      "text/plain": [
       "<Figure size 432x288 with 1 Axes>"
      ]
     },
     "metadata": {
      "needs_background": "light"
     },
     "output_type": "display_data"
    },
    {
     "data": {
      "text/plain": [
       "1    1180\n",
       "7     907\n",
       "2     855\n",
       "6     783\n",
       "3     625\n",
       "4     592\n",
       "5     520\n",
       "Name: IRPINC3, dtype: int64"
      ]
     },
     "execution_count": 13,
     "metadata": {},
     "output_type": "execute_result"
    }
   ],
   "source": [
    "#Visualize misuse status by Income level\n",
    "plt.figure()\n",
    "sns.heatmap(pd.crosstab(index=df.IRPINC3, \n",
    "                        columns=[df.pnrnmlif]),\n",
    "            cmap=\"YlGnBu\", annot=True, fmt='.5g', cbar=False)\n",
    "plt.show()\n",
    "\n",
    "df.IRPINC3.value_counts() "
   ]
  },
  {
   "cell_type": "code",
   "execution_count": 17,
   "id": "6f4b1393",
   "metadata": {},
   "outputs": [
    {
     "name": "stdout",
     "output_type": "stream",
     "text": [
      "1    4459\n",
      "0    1003\n",
      "Name: COUTYP4, dtype: int64\n"
     ]
    },
    {
     "data": {
      "image/png": "[encoded data removed]",
      "text/plain": [
       "<Figure size 432x288 with 1 Axes>"
      ]
     },
     "metadata": {
      "needs_background": "light"
     },
     "output_type": "display_data"
    }
   ],
   "source": [
    "print(df.COUTYP4.value_counts())\n",
    "#Visualize misuse status by County metro/nonmetro status\n",
    "plt.figure()\n",
    "sns.heatmap(pd.crosstab(index=df.COUTYP4, \n",
    "                        columns=[df.pnrnmlif]),\n",
    "            cmap=\"YlGnBu\", annot=True, fmt='.5g', cbar=False)\n",
    "plt.show()"
   ]
  }
 ],
 "metadata": {
  "kernelspec": {
   "display_name": "Python 3 (ipykernel)",
   "language": "python",
   "name": "python3"
  },
  "language_info": {
   "codemirror_mode": {
    "name": "ipython",
    "version": 3
   },
   "file_extension": ".py",
   "mimetype": "text/x-python",
   "name": "python",
   "nbconvert_exporter": "python",
   "pygments_lexer": "ipython3",
   "version": "3.8.8"
  }
 },
 "nbformat": 4,
 "nbformat_minor": 5
}
