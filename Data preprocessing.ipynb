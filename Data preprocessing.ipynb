{
 "cells": [
  {
   "cell_type": "markdown",
   "id": "31bd7330",
   "metadata": {},
   "source": [
    "# Setting Up Our Environment"
   ]
  },
  {
   "cell_type": "code",
   "execution_count": 1,
   "id": "9f648aeb",
   "metadata": {},
   "outputs": [],
   "source": [
    "# Global Imports\n",
    "import numpy as np   \n",
    "import pandas as pd\n",
    "import seaborn as sns\n",
    "import sklearn\n",
    "import matplotlib.pyplot as plt   # plotting\n",
    "from sklearn.model_selection import train_test_split  # ML data splits\n",
    "from sklearn.preprocessing import MinMaxScaler # ML preprocessing\n",
    "from sklearn.model_selection import GridSearchCV\n",
    "from sklearn.model_selection import StratifiedKFold\n",
    "\n",
    "\n",
    "#Set seed\n",
    "np.random.seed(1234) \n",
    "\n",
    "# Import model\n",
    "from sklearn.tree import DecisionTreeRegressor\n",
    "\n",
    "# Import metrics\n",
    "from sklearn.metrics import mean_absolute_error, mean_squared_error, r2_score"
   ]
  },
  {
   "cell_type": "markdown",
   "id": "58887464",
   "metadata": {},
   "source": [
    "# Looking at the dataset"
   ]
  },
  {
   "cell_type": "code",
   "execution_count": 2,
   "id": "6ee21991",
   "metadata": {},
   "outputs": [
    {
     "data": {
      "text/html": [
       "<div>\n",
       "<style scoped>\n",
       "    .dataframe tbody tr th:only-of-type {\n",
       "        vertical-align: middle;\n",
       "    }\n",
       "\n",
       "    .dataframe tbody tr th {\n",
       "        vertical-align: top;\n",
       "    }\n",
       "\n",
       "    .dataframe thead th {\n",
       "        text-align: right;\n",
       "    }\n",
       "</style>\n",
       "<table border=\"1\" class=\"dataframe\">\n",
       "  <thead>\n",
       "    <tr style=\"text-align: right;\">\n",
       "      <th></th>\n",
       "      <th>Unnamed: 0</th>\n",
       "      <th>QUESTID2</th>\n",
       "      <th>cigever</th>\n",
       "      <th>cigofrsm</th>\n",
       "      <th>cigwilyr</th>\n",
       "      <th>cigtry</th>\n",
       "      <th>cigyfu</th>\n",
       "      <th>cigmfu</th>\n",
       "      <th>cigrec</th>\n",
       "      <th>CIG30USE</th>\n",
       "      <th>...</th>\n",
       "      <th>govtprog</th>\n",
       "      <th>income</th>\n",
       "      <th>POVERTY3</th>\n",
       "      <th>PDEN10</th>\n",
       "      <th>COUTYP4</th>\n",
       "      <th>MAIIN102</th>\n",
       "      <th>AIIND102</th>\n",
       "      <th>ANALWTQ1Q4_C</th>\n",
       "      <th>VESTRQ1Q4_C</th>\n",
       "      <th>verep</th>\n",
       "    </tr>\n",
       "  </thead>\n",
       "  <tbody>\n",
       "    <tr>\n",
       "      <th>count</th>\n",
       "      <td>32893.000000</td>\n",
       "      <td>3.289300e+04</td>\n",
       "      <td>32893.000000</td>\n",
       "      <td>32893.000000</td>\n",
       "      <td>32893.000000</td>\n",
       "      <td>32893.000000</td>\n",
       "      <td>32893.000000</td>\n",
       "      <td>32893.000000</td>\n",
       "      <td>32893.000000</td>\n",
       "      <td>32893.000000</td>\n",
       "      <td>...</td>\n",
       "      <td>32893.000000</td>\n",
       "      <td>32893.000000</td>\n",
       "      <td>32768.000000</td>\n",
       "      <td>32893.000000</td>\n",
       "      <td>32893.000000</td>\n",
       "      <td>32893.000000</td>\n",
       "      <td>32893.000000</td>\n",
       "      <td>32893.000000</td>\n",
       "      <td>32893.000000</td>\n",
       "      <td>32893.000000</td>\n",
       "    </tr>\n",
       "    <tr>\n",
       "      <th>mean</th>\n",
       "      <td>16447.000000</td>\n",
       "      <td>2.649578e+07</td>\n",
       "      <td>1.555377</td>\n",
       "      <td>83.735141</td>\n",
       "      <td>83.757061</td>\n",
       "      <td>560.897638</td>\n",
       "      <td>9890.192412</td>\n",
       "      <td>93.358526</td>\n",
       "      <td>51.850150</td>\n",
       "      <td>82.936704</td>\n",
       "      <td>...</td>\n",
       "      <td>1.839966</td>\n",
       "      <td>2.902684</td>\n",
       "      <td>2.536469</td>\n",
       "      <td>1.646004</td>\n",
       "      <td>1.735232</td>\n",
       "      <td>1.986228</td>\n",
       "      <td>1.986046</td>\n",
       "      <td>8418.568555</td>\n",
       "      <td>40025.402882</td>\n",
       "      <td>1.410422</td>\n",
       "    </tr>\n",
       "    <tr>\n",
       "      <th>std</th>\n",
       "      <td>9495.535539</td>\n",
       "      <td>9.583202e+06</td>\n",
       "      <td>0.496932</td>\n",
       "      <td>34.927911</td>\n",
       "      <td>34.891725</td>\n",
       "      <td>484.033219</td>\n",
       "      <td>905.910716</td>\n",
       "      <td>10.474010</td>\n",
       "      <td>43.773093</td>\n",
       "      <td>23.765419</td>\n",
       "      <td>...</td>\n",
       "      <td>0.366643</td>\n",
       "      <td>1.134239</td>\n",
       "      <td>0.734603</td>\n",
       "      <td>0.598197</td>\n",
       "      <td>0.745474</td>\n",
       "      <td>0.116545</td>\n",
       "      <td>0.117303</td>\n",
       "      <td>13203.001524</td>\n",
       "      <td>14.411373</td>\n",
       "      <td>0.491918</td>\n",
       "    </tr>\n",
       "    <tr>\n",
       "      <th>min</th>\n",
       "      <td>1.000000</td>\n",
       "      <td>1.000018e+07</td>\n",
       "      <td>1.000000</td>\n",
       "      <td>1.000000</td>\n",
       "      <td>1.000000</td>\n",
       "      <td>1.000000</td>\n",
       "      <td>2018.000000</td>\n",
       "      <td>1.000000</td>\n",
       "      <td>1.000000</td>\n",
       "      <td>1.000000</td>\n",
       "      <td>...</td>\n",
       "      <td>1.000000</td>\n",
       "      <td>1.000000</td>\n",
       "      <td>1.000000</td>\n",
       "      <td>1.000000</td>\n",
       "      <td>1.000000</td>\n",
       "      <td>1.000000</td>\n",
       "      <td>1.000000</td>\n",
       "      <td>2.889186</td>\n",
       "      <td>40001.000000</td>\n",
       "      <td>1.000000</td>\n",
       "    </tr>\n",
       "    <tr>\n",
       "      <th>25%</th>\n",
       "      <td>8224.000000</td>\n",
       "      <td>1.818380e+07</td>\n",
       "      <td>1.000000</td>\n",
       "      <td>99.000000</td>\n",
       "      <td>99.000000</td>\n",
       "      <td>16.000000</td>\n",
       "      <td>9991.000000</td>\n",
       "      <td>91.000000</td>\n",
       "      <td>4.000000</td>\n",
       "      <td>91.000000</td>\n",
       "      <td>...</td>\n",
       "      <td>2.000000</td>\n",
       "      <td>2.000000</td>\n",
       "      <td>2.000000</td>\n",
       "      <td>1.000000</td>\n",
       "      <td>1.000000</td>\n",
       "      <td>2.000000</td>\n",
       "      <td>2.000000</td>\n",
       "      <td>1322.798000</td>\n",
       "      <td>40013.000000</td>\n",
       "      <td>1.000000</td>\n",
       "    </tr>\n",
       "    <tr>\n",
       "      <th>50%</th>\n",
       "      <td>16447.000000</td>\n",
       "      <td>2.641664e+07</td>\n",
       "      <td>2.000000</td>\n",
       "      <td>99.000000</td>\n",
       "      <td>99.000000</td>\n",
       "      <td>991.000000</td>\n",
       "      <td>9991.000000</td>\n",
       "      <td>91.000000</td>\n",
       "      <td>91.000000</td>\n",
       "      <td>91.000000</td>\n",
       "      <td>...</td>\n",
       "      <td>2.000000</td>\n",
       "      <td>3.000000</td>\n",
       "      <td>3.000000</td>\n",
       "      <td>2.000000</td>\n",
       "      <td>2.000000</td>\n",
       "      <td>2.000000</td>\n",
       "      <td>2.000000</td>\n",
       "      <td>3939.994000</td>\n",
       "      <td>40025.000000</td>\n",
       "      <td>1.000000</td>\n",
       "    </tr>\n",
       "    <tr>\n",
       "      <th>75%</th>\n",
       "      <td>24670.000000</td>\n",
       "      <td>3.484307e+07</td>\n",
       "      <td>2.000000</td>\n",
       "      <td>99.000000</td>\n",
       "      <td>99.000000</td>\n",
       "      <td>991.000000</td>\n",
       "      <td>9999.000000</td>\n",
       "      <td>99.000000</td>\n",
       "      <td>91.000000</td>\n",
       "      <td>93.000000</td>\n",
       "      <td>...</td>\n",
       "      <td>2.000000</td>\n",
       "      <td>4.000000</td>\n",
       "      <td>3.000000</td>\n",
       "      <td>2.000000</td>\n",
       "      <td>2.000000</td>\n",
       "      <td>2.000000</td>\n",
       "      <td>2.000000</td>\n",
       "      <td>9931.880000</td>\n",
       "      <td>40038.000000</td>\n",
       "      <td>2.000000</td>\n",
       "    </tr>\n",
       "    <tr>\n",
       "      <th>max</th>\n",
       "      <td>32893.000000</td>\n",
       "      <td>4.307541e+07</td>\n",
       "      <td>2.000000</td>\n",
       "      <td>99.000000</td>\n",
       "      <td>99.000000</td>\n",
       "      <td>997.000000</td>\n",
       "      <td>9999.000000</td>\n",
       "      <td>99.000000</td>\n",
       "      <td>91.000000</td>\n",
       "      <td>98.000000</td>\n",
       "      <td>...</td>\n",
       "      <td>2.000000</td>\n",
       "      <td>4.000000</td>\n",
       "      <td>3.000000</td>\n",
       "      <td>3.000000</td>\n",
       "      <td>3.000000</td>\n",
       "      <td>2.000000</td>\n",
       "      <td>2.000000</td>\n",
       "      <td>223960.300000</td>\n",
       "      <td>40050.000000</td>\n",
       "      <td>2.000000</td>\n",
       "    </tr>\n",
       "  </tbody>\n",
       "</table>\n",
       "<p>8 rows × 2889 columns</p>\n",
       "</div>"
      ],
      "text/plain": [
       "         Unnamed: 0      QUESTID2       cigever      cigofrsm      cigwilyr  \\\n",
       "count  32893.000000  3.289300e+04  32893.000000  32893.000000  32893.000000   \n",
       "mean   16447.000000  2.649578e+07      1.555377     83.735141     83.757061   \n",
       "std     9495.535539  9.583202e+06      0.496932     34.927911     34.891725   \n",
       "min        1.000000  1.000018e+07      1.000000      1.000000      1.000000   \n",
       "25%     8224.000000  1.818380e+07      1.000000     99.000000     99.000000   \n",
       "50%    16447.000000  2.641664e+07      2.000000     99.000000     99.000000   \n",
       "75%    24670.000000  3.484307e+07      2.000000     99.000000     99.000000   \n",
       "max    32893.000000  4.307541e+07      2.000000     99.000000     99.000000   \n",
       "\n",
       "             cigtry        cigyfu        cigmfu        cigrec      CIG30USE  \\\n",
       "count  32893.000000  32893.000000  32893.000000  32893.000000  32893.000000   \n",
       "mean     560.897638   9890.192412     93.358526     51.850150     82.936704   \n",
       "std      484.033219    905.910716     10.474010     43.773093     23.765419   \n",
       "min        1.000000   2018.000000      1.000000      1.000000      1.000000   \n",
       "25%       16.000000   9991.000000     91.000000      4.000000     91.000000   \n",
       "50%      991.000000   9991.000000     91.000000     91.000000     91.000000   \n",
       "75%      991.000000   9999.000000     99.000000     91.000000     93.000000   \n",
       "max      997.000000   9999.000000     99.000000     91.000000     98.000000   \n",
       "\n",
       "       ...      govtprog        income      POVERTY3        PDEN10  \\\n",
       "count  ...  32893.000000  32893.000000  32768.000000  32893.000000   \n",
       "mean   ...      1.839966      2.902684      2.536469      1.646004   \n",
       "std    ...      0.366643      1.134239      0.734603      0.598197   \n",
       "min    ...      1.000000      1.000000      1.000000      1.000000   \n",
       "25%    ...      2.000000      2.000000      2.000000      1.000000   \n",
       "50%    ...      2.000000      3.000000      3.000000      2.000000   \n",
       "75%    ...      2.000000      4.000000      3.000000      2.000000   \n",
       "max    ...      2.000000      4.000000      3.000000      3.000000   \n",
       "\n",
       "            COUTYP4      MAIIN102      AIIND102   ANALWTQ1Q4_C   VESTRQ1Q4_C  \\\n",
       "count  32893.000000  32893.000000  32893.000000   32893.000000  32893.000000   \n",
       "mean       1.735232      1.986228      1.986046    8418.568555  40025.402882   \n",
       "std        0.745474      0.116545      0.117303   13203.001524     14.411373   \n",
       "min        1.000000      1.000000      1.000000       2.889186  40001.000000   \n",
       "25%        1.000000      2.000000      2.000000    1322.798000  40013.000000   \n",
       "50%        2.000000      2.000000      2.000000    3939.994000  40025.000000   \n",
       "75%        2.000000      2.000000      2.000000    9931.880000  40038.000000   \n",
       "max        3.000000      2.000000      2.000000  223960.300000  40050.000000   \n",
       "\n",
       "              verep  \n",
       "count  32893.000000  \n",
       "mean       1.410422  \n",
       "std        0.491918  \n",
       "min        1.000000  \n",
       "25%        1.000000  \n",
       "50%        1.000000  \n",
       "75%        2.000000  \n",
       "max        2.000000  \n",
       "\n",
       "[8 rows x 2889 columns]"
      ]
     },
     "execution_count": 2,
     "metadata": {},
     "output_type": "execute_result"
    }
   ],
   "source": [
    "#Import dataset\n",
    "df = pd.read_csv('C:/Users/kimng/Desktop/EDPY506/Final Project/NSDUH_2020.csv', low_memory=False)\n",
    "df.describe()"
   ]
  },
  {
   "cell_type": "code",
   "execution_count": 3,
   "id": "1869fdb6",
   "metadata": {},
   "outputs": [
    {
     "data": {
      "text/plain": [
       "(32893, 2891)"
      ]
     },
     "execution_count": 3,
     "metadata": {},
     "output_type": "execute_result"
    }
   ],
   "source": [
    "df.shape"
   ]
  },
  {
   "cell_type": "code",
   "execution_count": 4,
   "id": "4021b52d",
   "metadata": {},
   "outputs": [],
   "source": [
    "#Select columns to be used for analyses\n",
    "columns = [\n",
    "            ##OUTCOME VARIABLE -- Opioid misuse\n",
    "            'pnrnmlif', #EVER USED PAIN RELIEVER NOT DIRECTED BY DR\n",
    "    \n",
    "            ## Demographics \n",
    "            'CATAG6', #recoded age group (6 levels)\n",
    "            'NEWRACE2', #Race/Ethiniciy \n",
    "            'irsex', #Sex\n",
    "            'sexident', #Sexual Identity\n",
    "            'IREDUHIGHST2', #Education\n",
    "            'irwrkstat', #Employment status \n",
    "            'IRPINC3', #Respondent's income level\n",
    "            'COUTYP4', #county metro/nonmetro status\n",
    "            'health', #Respondent's reported overall health\n",
    "            \n",
    "            ## Health Insurance\n",
    "            'IRINSUR4', #Insurance status\n",
    "            'hltinmnt', #Coverage for mental or emotional problems\n",
    "            'hltinalc', #Coverage for alcohol abuse or alcoholism\n",
    "            'hltindrg',#Coverage for drug abuse treatment\n",
    "    \n",
    "            ## Mental Health\n",
    "            'WHODASC2',#Mental Health Score, indicating the level of impairment for respondents\n",
    "            'spdyr', #serious psychological distress indicator\n",
    "            'mhsuithk',#serious suicidal ideation indicator\n",
    "            'UDYR5ILAL',# adult illicit drug or alcohol use disorder\n",
    "            'amdelt', # adult lifetime major depressive disorder\n",
    "    \n",
    "            ## Reasons for misuse\n",
    "            'pnrrspain',#relieve physical pain\n",
    "            'pnrrspain',#relax\n",
    "            'pnrrsexpt',#experiment\n",
    "            'pnrrshigh',#feel good/get high\n",
    "            'pnrrshigh',#help with sleep\n",
    "            'pnrrsemot',#help with feelings/emotions\n",
    "            'pnrrssor', #for other drug effects\n",
    "            'pnrrshook',#feel “hooked”\n",
    "            'pnrrssor'#other reasons\n",
    "]\n",
    "\n",
    "#Subset data\n",
    "data = df[columns]"
   ]
  },
  {
   "cell_type": "code",
   "execution_count": 5,
   "id": "3ab44446",
   "metadata": {},
   "outputs": [
    {
     "data": {
      "text/plain": [
       "Index(['pnrnmlif', 'CATAG6', 'NEWRACE2', 'irsex', 'sexident', 'IREDUHIGHST2',\n",
       "       'irwrkstat', 'IRPINC3', 'COUTYP4', 'health', 'IRINSUR4', 'hltinmnt',\n",
       "       'hltinalc', 'hltindrg', 'WHODASC2', 'spdyr', 'mhsuithk', 'UDYR5ILAL',\n",
       "       'amdelt', 'pnrrspain', 'pnrrspain', 'pnrrsexpt', 'pnrrshigh',\n",
       "       'pnrrshigh', 'pnrrsemot', 'pnrrssor', 'pnrrshook', 'pnrrssor'],\n",
       "      dtype='object')"
      ]
     },
     "execution_count": 5,
     "metadata": {},
     "output_type": "execute_result"
    }
   ],
   "source": [
    "data.columns"
   ]
  },
  {
   "cell_type": "markdown",
   "id": "1fd60713",
   "metadata": {},
   "source": [
    "## Examining Variables"
   ]
  },
  {
   "cell_type": "markdown",
   "id": "806a3510",
   "metadata": {},
   "source": [
    "### Pain reliever misuse (pnrnmlif) \n",
    "Check 2020 NSDUH codebook **page 64** for additional information on the variable"
   ]
  },
  {
   "cell_type": "code",
   "execution_count": 6,
   "id": "c83092e6",
   "metadata": {},
   "outputs": [
    {
     "data": {
      "text/plain": [
       "91    15644\n",
       "2     13938\n",
       "1      1852\n",
       "5      1058\n",
       "Name: pnrnmlif, dtype: int64"
      ]
     },
     "execution_count": 6,
     "metadata": {},
     "output_type": "execute_result"
    }
   ],
   "source": [
    "#EVER USED PAIN RELIEVER NOT DIRECTED BY DR: 'pnrnmlif'\n",
    "\n",
    "#Count number of cases by unique values\n",
    "data.pnrnmlif.value_counts()\n",
    "\n",
    "#Excluding rows with bad data (pnrnmlif = 85), missing values (pnrnmlif = 99)\n",
    "# respondent refused to answer (pnrnmlif = 97), respondent didn't know (pnrnmlif = 94)\n",
    "\n",
    "data_filtered = data.query(\"pnrnmlif== 1| pnrnmlif==2| pnrnmlif==5| pnrnmlif==91\")\n",
    "\n",
    "#Count number of cases by unique values\n",
    "data_filtered.pnrnmlif.value_counts()"
   ]
  },
  {
   "cell_type": "code",
   "execution_count": 44,
   "id": "6ad293d6",
   "metadata": {},
   "outputs": [
    {
     "data": {
      "text/plain": [
       "0    24210\n",
       "1     2731\n",
       "Name: pnrnmlif, dtype: int64"
      ]
     },
     "execution_count": 44,
     "metadata": {},
     "output_type": "execute_result"
    }
   ],
   "source": [
    "#Recode pnrnmlif==5 (logically assigned yes) into 1 (Yes)\n",
    "data_filtered.loc[data_filtered['pnrnmlif'] == 5, 'pnrnmlif'] = 1\n",
    "\n",
    "#Recode pnrnmlif==91 (never used or misused pain relievers) into 2 (No)\n",
    "data_filtered.loc[data_filtered['pnrnmlif'] == 91, 'pnrnmlif'] = 2\n",
    "\n",
    "#Recode pnrnmlif==2 into 0\n",
    "data_filtered.loc[data_filtered['pnrnmlif'] == 2, 'pnrnmlif'] = 0\n",
    "\n",
    "#Count number of cases by unique values\n",
    "data_filtered.pnrnmlif.value_counts() \n",
    "\n",
    "#Note class imbalance!!! Make sure to use stratified K-fold split later."
   ]
  },
  {
   "cell_type": "markdown",
   "id": "9363b1d7",
   "metadata": {},
   "source": [
    "### Age group (CATAG6)\n",
    "Age categories:\n",
    "* 1 = 12-17 Years Old\n",
    "* 2 = 18-25 Years Old\n",
    "* 3 = 26-34 Years Old\n",
    "* 4 = 35-49 Years Old\n",
    "* 5 = 50-64 Years Old\n",
    "* 6 = 65 or Older"
   ]
  },
  {
   "cell_type": "code",
   "execution_count": 8,
   "id": "13470273",
   "metadata": {},
   "outputs": [
    {
     "data": {
      "image/png": "[encoded data removed]",
      "text/plain": [
       "<Figure size 432x288 with 1 Axes>"
      ]
     },
     "metadata": {
      "needs_background": "light"
     },
     "output_type": "display_data"
    }
   ],
   "source": [
    "#Visualize misuse status by age group\n",
    "plt.figure()\n",
    "sns.heatmap(pd.crosstab(index=data_filtered.CATAG6, \n",
    "                        columns=[data_filtered.pnrnmlif]),\n",
    "            cmap=\"YlGnBu\", annot=True, fmt='.4g', cbar=False)\n",
    "plt.show()"
   ]
  },
  {
   "cell_type": "code",
   "execution_count": 9,
   "id": "8957b32d",
   "metadata": {},
   "outputs": [
    {
     "data": {
      "text/plain": [
       "2    7865\n",
       "4    7366\n",
       "3    5672\n",
       "1    5543\n",
       "5    3092\n",
       "6    2954\n",
       "Name: CATAG6, dtype: int64"
      ]
     },
     "execution_count": 9,
     "metadata": {},
     "output_type": "execute_result"
    }
   ],
   "source": [
    "#Count number of cases by unique values\n",
    "data_filtered.CATAG6.value_counts() "
   ]
  },
  {
   "cell_type": "code",
   "execution_count": 10,
   "id": "4a396ea1",
   "metadata": {},
   "outputs": [],
   "source": [
    "#Excluding adolescents (CATAG6)\n",
    "\n",
    "data_filtered = data_filtered[data_filtered.CATAG6 != 1]"
   ]
  },
  {
   "cell_type": "markdown",
   "id": "368c7107",
   "metadata": {},
   "source": [
    "### Race/ Hispanic Ethnicity (NEWRACE2)\n",
    "\n",
    "* 1 = NonHisp White\n",
    "* 2 = NonHisp Black/Afr Am\n",
    "* 3 = NonHisp Native Am/AK Native\n",
    "* 4 = NonHisp Native HI/Other Pac Isl\n",
    "* 5 = NonHisp Asian\n",
    "* 6 = NonHisp more than one race\n",
    "* 7 = Hispanic"
   ]
  },
  {
   "cell_type": "code",
   "execution_count": 11,
   "id": "ce5ebe41",
   "metadata": {},
   "outputs": [
    {
     "data": {
      "image/png": "[encoded data removed]",
      "text/plain": [
       "<Figure size 432x288 with 1 Axes>"
      ]
     },
     "metadata": {
      "needs_background": "light"
     },
     "output_type": "display_data"
    },
    {
     "data": {
      "text/plain": [
       "1    18007\n",
       "7     3692\n",
       "2     2415\n",
       "5     1530\n",
       "6      973\n",
       "3      220\n",
       "4      112\n",
       "Name: NEWRACE2, dtype: int64"
      ]
     },
     "execution_count": 11,
     "metadata": {},
     "output_type": "execute_result"
    }
   ],
   "source": [
    "#Visualize misuse status by race/ethnicity group\n",
    "plt.figure()\n",
    "sns.heatmap(pd.crosstab(index=data_filtered.NEWRACE2, \n",
    "                        columns=[data_filtered.pnrnmlif]),\n",
    "            cmap=\"YlGnBu\", annot=True, fmt='.5g', cbar=False)\n",
    "plt.show()\n",
    "\n",
    "data_filtered.NEWRACE2.value_counts() "
   ]
  },
  {
   "cell_type": "code",
   "execution_count": 12,
   "id": "a61fda92",
   "metadata": {},
   "outputs": [],
   "source": [
    "#Create new dummy variables for each categories\n",
    "\n",
    "data_filtered.loc[data_filtered['NEWRACE2'] == 1, 'RaceEth_white'] = 1\n",
    "data_filtered.loc[data_filtered['NEWRACE2'] != 1, 'RaceEth_white'] = 0\n",
    "\n",
    "data_filtered.loc[data_filtered['NEWRACE2'] == 2, 'RaceEth_black'] = 1\n",
    "data_filtered.loc[data_filtered['NEWRACE2'] != 2, 'RaceEth_black'] = 0\n",
    "\n",
    "data_filtered.loc[data_filtered['NEWRACE2'] == 3, 'RaceEth_native'] = 1\n",
    "data_filtered.loc[data_filtered['NEWRACE2'] != 3, 'RaceEth_native'] = 0\n",
    "\n",
    "data_filtered.loc[data_filtered['NEWRACE2'] == 4, 'RaceEth_islander'] = 1\n",
    "data_filtered.loc[data_filtered['NEWRACE2'] != 4, 'RaceEth_islander'] = 0\n",
    "\n",
    "data_filtered.loc[data_filtered['NEWRACE2'] == 5, 'RaceEth_asian'] = 1\n",
    "data_filtered.loc[data_filtered['NEWRACE2'] != 5, 'RaceEth_asian'] = 0\n",
    "\n",
    "data_filtered.loc[data_filtered['NEWRACE2'] == 6, 'RaceEth_multi'] = 1\n",
    "data_filtered.loc[data_filtered['NEWRACE2'] != 6, 'RaceEth_multi'] = 0\n",
    "\n",
    "data_filtered.loc[data_filtered['NEWRACE2'] == 7, 'RaceEth_hisp'] = 1\n",
    "data_filtered.loc[data_filtered['NEWRACE2'] != 7, 'RaceEth_hisp'] = 0\n"
   ]
  },
  {
   "cell_type": "markdown",
   "id": "f56dc496",
   "metadata": {},
   "source": [
    "### Sex (irsex)\n",
    "\n",
    "1 = Male\n",
    "2 = Female"
   ]
  },
  {
   "cell_type": "code",
   "execution_count": 13,
   "id": "625e76c9",
   "metadata": {},
   "outputs": [
    {
     "data": {
      "image/png": "[encoded data removed]",
      "text/plain": [
       "<Figure size 432x288 with 1 Axes>"
      ]
     },
     "metadata": {
      "needs_background": "light"
     },
     "output_type": "display_data"
    },
    {
     "data": {
      "text/plain": [
       "2    14861\n",
       "1    12088\n",
       "Name: irsex, dtype: int64"
      ]
     },
     "execution_count": 13,
     "metadata": {},
     "output_type": "execute_result"
    }
   ],
   "source": [
    "#Visualize misuse status by sex group\n",
    "plt.figure()\n",
    "sns.heatmap(pd.crosstab(index=data_filtered.irsex, \n",
    "                        columns=[data_filtered.pnrnmlif]),\n",
    "            cmap=\"YlGnBu\", annot=True, fmt='.5g', cbar=False)\n",
    "plt.show()\n",
    "\n",
    "#Count number of cases by unique values\n",
    "data_filtered.irsex.value_counts() \n"
   ]
  },
  {
   "cell_type": "code",
   "execution_count": 14,
   "id": "8658ddd5",
   "metadata": {},
   "outputs": [],
   "source": [
    "# Change to Male = 0, female =1\n",
    "data_filtered.irsex = data_filtered.irsex - 1"
   ]
  },
  {
   "cell_type": "code",
   "execution_count": 15,
   "id": "436172a1",
   "metadata": {},
   "outputs": [
    {
     "data": {
      "text/plain": [
       "1    14861\n",
       "0    12088\n",
       "Name: irsex, dtype: int64"
      ]
     },
     "execution_count": 15,
     "metadata": {},
     "output_type": "execute_result"
    }
   ],
   "source": [
    "data_filtered.irsex.value_counts() "
   ]
  },
  {
   "cell_type": "markdown",
   "id": "b3a477f0",
   "metadata": {},
   "source": [
    "### Sexual identity (sexident)\n",
    "* 1 = Heterosexual/straight\n",
    "* 2 = Lesbian or Gay\n",
    "* 3 = Bisexual\n",
    "* 85 = BAD DATA Logically assigned\n",
    "* 94 = DON'T KNOW\n",
    "* 97 = REFUSED\n",
    "* 98 = BLANK (NO ANSWER)\n",
    "* 99 = LEGITIMATE SKIP"
   ]
  },
  {
   "cell_type": "code",
   "execution_count": 16,
   "id": "20c6976d",
   "metadata": {},
   "outputs": [
    {
     "data": {
      "text/plain": [
       "1     23021\n",
       "3      1919\n",
       "98      939\n",
       "2       708\n",
       "97      224\n",
       "94      132\n",
       "85        6\n",
       "Name: sexident, dtype: int64"
      ]
     },
     "execution_count": 16,
     "metadata": {},
     "output_type": "execute_result"
    }
   ],
   "source": [
    "data_filtered.sexident.value_counts() "
   ]
  },
  {
   "cell_type": "code",
   "execution_count": 17,
   "id": "bc5ead4e",
   "metadata": {},
   "outputs": [
    {
     "data": {
      "image/png": "[encoded data removed]",
      "text/plain": [
       "<Figure size 432x288 with 1 Axes>"
      ]
     },
     "metadata": {
      "needs_background": "light"
     },
     "output_type": "display_data"
    }
   ],
   "source": [
    "#Visualize misuse status by sex id group\n",
    "plt.figure()\n",
    "sns.heatmap(pd.crosstab(index=data_filtered.sexident, \n",
    "                        columns=[data_filtered.pnrnmlif]),\n",
    "            cmap=\"YlGnBu\", annot=True, fmt='.5g', cbar=False)\n",
    "plt.show()"
   ]
  },
  {
   "cell_type": "markdown",
   "id": "bf5087e5",
   "metadata": {},
   "source": [
    "### Education (IREDUHIGHST2)\n",
    "* 1 = Fifth grade or less grade completed\n",
    "* 2 = Sixth grade completed\n",
    "* 3 = Seventh grade completed\n",
    "* 4 = Eighth grade completed\n",
    "* 5 = Ninth grade completed\n",
    "* 6 = Tenth grade completed\n",
    "* 7 = Eleventh or Twelfth grade completed, no diploma\n",
    "* 8 = High school diploma/GED\n",
    "* 9 = Some college credit, but no degree\n",
    "* 10 = Associate's degree (for example, AA, AS)\n",
    "* 11 = College graduate or higher"
   ]
  },
  {
   "cell_type": "code",
   "execution_count": 18,
   "id": "dbc9c12d",
   "metadata": {},
   "outputs": [
    {
     "data": {
      "image/png": "[encoded data removed]",
      "text/plain": [
       "<Figure size 432x288 with 1 Axes>"
      ]
     },
     "metadata": {
      "needs_background": "light"
     },
     "output_type": "display_data"
    }
   ],
   "source": [
    "#Visualize misuse status by education\n",
    "plt.figure()\n",
    "sns.heatmap(pd.crosstab(index=data_filtered.IREDUHIGHST2, \n",
    "                        columns=[data_filtered.pnrnmlif]),\n",
    "            cmap=\"YlGnBu\", annot=True, fmt='.5g', cbar=False)\n",
    "plt.show()"
   ]
  },
  {
   "cell_type": "markdown",
   "id": "0b2efb33",
   "metadata": {},
   "source": [
    "### Employment status (irwrkstat)\n",
    "* 1 = Employed full time\n",
    "* 2 = Employed part time\n",
    "* 3 = Unemployed\n",
    "* 4 = Other (incl. not in labor force)\n",
    "* 99 = 12-14 year olds"
   ]
  },
  {
   "cell_type": "code",
   "execution_count": 19,
   "id": "50d16db0",
   "metadata": {},
   "outputs": [
    {
     "data": {
      "text/plain": [
       "1    13821\n",
       "4     7508\n",
       "2     4090\n",
       "3     1530\n",
       "Name: irwrkstat, dtype: int64"
      ]
     },
     "execution_count": 19,
     "metadata": {},
     "output_type": "execute_result"
    }
   ],
   "source": [
    "data_filtered.irwrkstat.value_counts() "
   ]
  },
  {
   "cell_type": "code",
   "execution_count": 20,
   "id": "74e6ea51",
   "metadata": {},
   "outputs": [
    {
     "data": {
      "image/png": "[encoded data removed]",
      "text/plain": [
       "<Figure size 432x288 with 1 Axes>"
      ]
     },
     "metadata": {
      "needs_background": "light"
     },
     "output_type": "display_data"
    }
   ],
   "source": [
    "#Visualize misuse status by education\n",
    "plt.figure()\n",
    "sns.heatmap(pd.crosstab(index=data_filtered.irwrkstat, \n",
    "                        columns=[data_filtered.pnrnmlif]),\n",
    "            cmap=\"YlGnBu\", annot=True, fmt='.5g', cbar=False)\n",
    "plt.show()"
   ]
  },
  {
   "cell_type": "code",
   "execution_count": 21,
   "id": "12a656b1",
   "metadata": {},
   "outputs": [],
   "source": [
    "#Create new dummy variables for each categories\n",
    "\n",
    "data_filtered.loc[data_filtered['irwrkstat'] == 1, 'wrkstat_empfull'] = 1\n",
    "data_filtered.loc[data_filtered['irwrkstat'] != 1, 'wrkstat_empfull'] = 0\n",
    "\n",
    "data_filtered.loc[data_filtered['irwrkstat'] == 2, 'wrkstat_emppart'] = 1\n",
    "data_filtered.loc[data_filtered['irwrkstat'] != 2, 'wrkstat_emppart'] = 0\n",
    "\n",
    "data_filtered.loc[data_filtered['irwrkstat'] == 3, 'wrkstat_unemp'] = 1\n",
    "data_filtered.loc[data_filtered['irwrkstat'] != 3, 'wrkstat_unemp'] = 0\n",
    "\n",
    "data_filtered.loc[data_filtered['irwrkstat'] == 4, 'wrkstat_other'] = 1\n",
    "data_filtered.loc[data_filtered['irwrkstat'] != 4, 'wrkstat_other'] = 0"
   ]
  },
  {
   "cell_type": "markdown",
   "id": "8f9268c9",
   "metadata": {},
   "source": [
    "### Income level (IRPINC3)\n",
    "* 1 = Less than $10,000 (Including Loss)\n",
    "* 2 = $10,000 - $19,999\n",
    "* 3 = $20,000 - $29,999\n",
    "* 4 = $30,000 - $39,999\n",
    "* 5 = $40,000 - $49,999\n",
    "* 6 = $50,000 - $74,999\n",
    "* 7 = $75,000 or more"
   ]
  },
  {
   "cell_type": "code",
   "execution_count": 22,
   "id": "bad3773d",
   "metadata": {},
   "outputs": [
    {
     "data": {
      "text/plain": [
       "1    6198\n",
       "7    4775\n",
       "2    4036\n",
       "6    3705\n",
       "3    3070\n",
       "4    2771\n",
       "5    2394\n",
       "Name: IRPINC3, dtype: int64"
      ]
     },
     "execution_count": 22,
     "metadata": {},
     "output_type": "execute_result"
    }
   ],
   "source": [
    "data_filtered.IRPINC3.value_counts() "
   ]
  },
  {
   "cell_type": "code",
   "execution_count": 23,
   "id": "464ab849",
   "metadata": {},
   "outputs": [
    {
     "data": {
      "image/png": "[encoded data removed]",
      "text/plain": [
       "<Figure size 432x288 with 1 Axes>"
      ]
     },
     "metadata": {
      "needs_background": "light"
     },
     "output_type": "display_data"
    }
   ],
   "source": [
    "#Visualize misuse status by Income level\n",
    "plt.figure()\n",
    "sns.heatmap(pd.crosstab(index=data_filtered.IRPINC3, \n",
    "                        columns=[data_filtered.pnrnmlif]),\n",
    "            cmap=\"YlGnBu\", annot=True, fmt='.5g', cbar=False)\n",
    "plt.show()"
   ]
  },
  {
   "cell_type": "markdown",
   "id": "436d4519",
   "metadata": {},
   "source": [
    "### County metro/nonmetro status (COUTYP4)\n",
    "* 1 = Large Metro\n",
    "* 2 = Small Metro -- Will be recoded as 1 (1 = metro)\n",
    "* 3 = Nonmetro -- will be recoded as 0 (0=nonmetro)"
   ]
  },
  {
   "cell_type": "code",
   "execution_count": 42,
   "id": "e13f6cda",
   "metadata": {},
   "outputs": [
    {
     "name": "stdout",
     "output_type": "stream",
     "text": [
      "1    22148\n",
      "0     4793\n",
      "Name: COUTYP4, dtype: int64\n"
     ]
    },
    {
     "data": {
      "image/png": "[encoded data removed]",
      "text/plain": [
       "<Figure size 432x288 with 1 Axes>"
      ]
     },
     "metadata": {
      "needs_background": "light"
     },
     "output_type": "display_data"
    }
   ],
   "source": [
    "print(data_filtered.COUTYP4.value_counts())\n",
    "#Visualize misuse status by County metro/nonmetro status\n",
    "plt.figure()\n",
    "sns.heatmap(pd.crosstab(index=data_filtered.COUTYP4, \n",
    "                        columns=[data_filtered.pnrnmlif]),\n",
    "            cmap=\"YlGnBu\", annot=True, fmt='.5g', cbar=False)\n",
    "plt.show()\n",
    "\n",
    "#Create new dummy variables for each categories\n",
    "\n",
    "data_filtered.loc[data_filtered['COUTYP4'] == 2, 'COUTYP4'] = 1\n",
    "data_filtered.loc[data_filtered['COUTYP4'] == 3, 'COUTYP4'] = 0\n"
   ]
  },
  {
   "cell_type": "code",
   "execution_count": 25,
   "id": "42e80886",
   "metadata": {},
   "outputs": [
    {
     "name": "stdout",
     "output_type": "stream",
     "text": [
      "1    22155\n",
      "0     4794\n",
      "Name: COUTYP4, dtype: int64\n"
     ]
    }
   ],
   "source": [
    "print(data_filtered.COUTYP4.value_counts())"
   ]
  },
  {
   "cell_type": "markdown",
   "id": "73039529",
   "metadata": {},
   "source": [
    "### Overall health (health)\n",
    "* 1 = Excellent\n",
    "* 2 = Very good\n",
    "* 3 = Good\n",
    "* 4 = Fair\n",
    "* 5 = Poor\n",
    "* 94 = DON'T KNOW\n",
    "* 97 = REFUSED \n",
    "\n",
    "***Scoring will be reversed so that lower score = lower overall health***"
   ]
  },
  {
   "cell_type": "code",
   "execution_count": 26,
   "id": "6a13f510",
   "metadata": {},
   "outputs": [
    {
     "name": "stdout",
     "output_type": "stream",
     "text": [
      "2     10810\n",
      "3      7697\n",
      "1      5802\n",
      "4      2267\n",
      "5       365\n",
      "94        6\n",
      "97        2\n",
      "Name: health, dtype: int64\n"
     ]
    },
    {
     "data": {
      "image/png": "[encoded data removed]",
      "text/plain": [
       "<Figure size 432x288 with 1 Axes>"
      ]
     },
     "metadata": {
      "needs_background": "light"
     },
     "output_type": "display_data"
    }
   ],
   "source": [
    "print(data_filtered.health.value_counts())\n",
    "\n",
    "#Visualize misuse status by Overall health\n",
    "plt.figure()\n",
    "sns.heatmap(pd.crosstab(index=data_filtered.health, \n",
    "                        columns=[data_filtered.pnrnmlif]),\n",
    "            cmap=\"YlGnBu\", annot=True, fmt='.5g', cbar=False)\n",
    "plt.show()\n",
    "\n",
    "#Excluding missing health data\n",
    "data_filtered = data_filtered[data_filtered.health != 94]\n",
    "data_filtered = data_filtered[data_filtered.health != 97]"
   ]
  },
  {
   "cell_type": "code",
   "execution_count": 27,
   "id": "38bbec1a",
   "metadata": {},
   "outputs": [
    {
     "name": "stdout",
     "output_type": "stream",
     "text": [
      "4    10810\n",
      "3     7697\n",
      "5     5802\n",
      "2     2267\n",
      "1      365\n",
      "Name: health, dtype: int64\n"
     ]
    }
   ],
   "source": [
    "#Reverse coding the values\n",
    "data_filtered.health = 6-data_filtered.health\n",
    "print(data_filtered.health.value_counts())"
   ]
  },
  {
   "cell_type": "markdown",
   "id": "9df22ab8",
   "metadata": {},
   "source": [
    "### Insurance status (IRINSUR4)\n",
    "* 1 = Yes, respondent is covered by health insurance\n",
    "* 2 = No, respondent is not covered by health insurance"
   ]
  },
  {
   "cell_type": "code",
   "execution_count": 28,
   "id": "195547f7",
   "metadata": {},
   "outputs": [
    {
     "name": "stdout",
     "output_type": "stream",
     "text": [
      "1    24287\n",
      "2     2654\n",
      "Name: IRINSUR4, dtype: int64\n"
     ]
    },
    {
     "data": {
      "image/png": "[encoded data removed]",
      "text/plain": [
       "<Figure size 432x288 with 1 Axes>"
      ]
     },
     "metadata": {
      "needs_background": "light"
     },
     "output_type": "display_data"
    },
    {
     "name": "stdout",
     "output_type": "stream",
     "text": [
      "1    24287\n",
      "0     2654\n",
      "Name: IRINSUR4, dtype: int64\n"
     ]
    }
   ],
   "source": [
    "print(data_filtered.IRINSUR4.value_counts())\n",
    "\n",
    "#Visualize misuse status by Insurance status\n",
    "plt.figure()\n",
    "sns.heatmap(pd.crosstab(index=data_filtered.IRINSUR4, \n",
    "                        columns=[data_filtered.pnrnmlif]),\n",
    "            cmap=\"YlGnBu\", annot=True, fmt='.5g', cbar=False)\n",
    "plt.show()\n",
    "\n",
    "# Change No =2 to No = 0\n",
    "data_filtered.loc[data_filtered['IRINSUR4'] == 2, 'IRINSUR4'] = 0\n",
    "print(data_filtered.IRINSUR4.value_counts())"
   ]
  },
  {
   "cell_type": "markdown",
   "id": "b9a0ae17",
   "metadata": {},
   "source": [
    "### Coverage for mental or emotional problems (hltinmnt)\n",
    "* 1 = Yes\n",
    "* 2 = No\n",
    "* 94 = DON'T KNOW\n",
    "* 97 = REFUSED\n",
    "* 98 = BLANK (NO ANSWER)\n",
    "* 99 = LEGITIMATE SKIP (No health insurance)\n",
    "\n",
    "***2, 94, 97, 98, 99 were later recoded as 0, which will be No/unknown coverage***"
   ]
  },
  {
   "cell_type": "code",
   "execution_count": 29,
   "id": "ae24fdd1",
   "metadata": {},
   "outputs": [
    {
     "name": "stdout",
     "output_type": "stream",
     "text": [
      "1     12991\n",
      "99     8106\n",
      "2      2150\n",
      "94     2106\n",
      "98     1537\n",
      "97       51\n",
      "Name: hltinmnt, dtype: int64\n"
     ]
    },
    {
     "data": {
      "image/png": "[encoded data removed]",
      "text/plain": [
       "<Figure size 432x288 with 1 Axes>"
      ]
     },
     "metadata": {
      "needs_background": "light"
     },
     "output_type": "display_data"
    },
    {
     "name": "stdout",
     "output_type": "stream",
     "text": [
      "0    13950\n",
      "1    12991\n",
      "Name: hltinmnt, dtype: int64\n"
     ]
    }
   ],
   "source": [
    "print(data_filtered.hltinmnt.value_counts())\n",
    "\n",
    "#Visualize misuse status by Coverage for mental or emotional problems \n",
    "plt.figure()\n",
    "sns.heatmap(pd.crosstab(index=data_filtered.hltinmnt, \n",
    "                        columns=[data_filtered.pnrnmlif]),\n",
    "            cmap=\"YlGnBu\", annot=True, fmt='.5g', cbar=False)\n",
    "plt.show()\n",
    "\n",
    "#Recode 2, 94, 97, 98, 99 as 0 (0 = No/unknown)\n",
    "data_filtered.loc[data_filtered['hltinmnt'] == 2, 'hltinmnt'] = 0\n",
    "data_filtered.loc[data_filtered['hltinmnt'] == 94, 'hltinmnt'] = 0\n",
    "data_filtered.loc[data_filtered['hltinmnt'] == 97, 'hltinmnt'] = 0\n",
    "data_filtered.loc[data_filtered['hltinmnt'] == 98, 'hltinmnt'] = 0\n",
    "data_filtered.loc[data_filtered['hltinmnt'] == 99, 'hltinmnt'] = 0\n",
    "\n",
    "print(data_filtered.hltinmnt.value_counts())\n"
   ]
  },
  {
   "cell_type": "markdown",
   "id": "6f77cbd0",
   "metadata": {},
   "source": [
    "### Coverage for alcohol abuse or alcoholism (hltinalc)\n",
    "* 1 = Yes\n",
    "* 2 = No\n",
    "* 94 = DON'T KNOW\n",
    "* 97 = REFUSED\n",
    "* 98 = BLANK (NO ANSWER)\n",
    "* 99 = LEGITIMATE SKIP (No health insurance)\n",
    "\n",
    "***2, 94, 97, 98, 99 were later recoded as 0, which will be No/unknown coverage***\n"
   ]
  },
  {
   "cell_type": "code",
   "execution_count": 30,
   "id": "1d10b652",
   "metadata": {},
   "outputs": [
    {
     "name": "stdout",
     "output_type": "stream",
     "text": [
      "1     10195\n",
      "99     8106\n",
      "94     3822\n",
      "2      3226\n",
      "98     1537\n",
      "97       55\n",
      "Name: hltinalc, dtype: int64\n"
     ]
    },
    {
     "data": {
      "image/png": "[encoded data removed]",
      "text/plain": [
       "<Figure size 432x288 with 1 Axes>"
      ]
     },
     "metadata": {
      "needs_background": "light"
     },
     "output_type": "display_data"
    },
    {
     "name": "stdout",
     "output_type": "stream",
     "text": [
      "0    16746\n",
      "1    10195\n",
      "Name: hltinalc, dtype: int64\n"
     ]
    }
   ],
   "source": [
    "print(data_filtered.hltinalc.value_counts())\n",
    "\n",
    "#Visualize misuse status by Coverage for alcohol abuse or alcoholism \n",
    "plt.figure()\n",
    "sns.heatmap(pd.crosstab(index=data_filtered.hltinalc, \n",
    "                        columns=[data_filtered.pnrnmlif]),\n",
    "            cmap=\"YlGnBu\", annot=True, fmt='.5g', cbar=False)\n",
    "plt.show()\n",
    "\n",
    "#Recode 2, 94, 97, 98, 99 as 0 (0 = No/unknown)\n",
    "data_filtered.loc[data_filtered['hltinalc'] == 2, 'hltinalc'] = 0\n",
    "data_filtered.loc[data_filtered['hltinalc'] == 94, 'hltinalc'] = 0\n",
    "data_filtered.loc[data_filtered['hltinalc'] == 97, 'hltinalc'] = 0\n",
    "data_filtered.loc[data_filtered['hltinalc'] == 98, 'hltinalc'] = 0\n",
    "data_filtered.loc[data_filtered['hltinalc'] == 99, 'hltinalc'] = 0\n",
    "\n",
    "print(data_filtered.hltinalc.value_counts())"
   ]
  },
  {
   "cell_type": "markdown",
   "id": "89acf034",
   "metadata": {},
   "source": [
    "### Coverage for drug abuse treatment (hltindrg)\n",
    "* 1 = Yes\n",
    "* 2 = No\n",
    "* 94 = DON'T KNOW\n",
    "* 97 = REFUSED\n",
    "* 98 = BLANK (NO ANSWER)\n",
    "* 99 = LEGITIMATE SKIP (No health insurance)\n",
    "\n",
    "***2, 94, 97, 98, 99 were later recoded as 0, which will be No/unknown coverage***"
   ]
  },
  {
   "cell_type": "code",
   "execution_count": 31,
   "id": "916c3c79",
   "metadata": {},
   "outputs": [
    {
     "name": "stdout",
     "output_type": "stream",
     "text": [
      "1     10149\n",
      "99     8106\n",
      "94     3753\n",
      "2      3340\n",
      "98     1537\n",
      "97       56\n",
      "Name: hltindrg, dtype: int64\n"
     ]
    },
    {
     "data": {
      "image/png": "[encoded data removed]",
      "text/plain": [
       "<Figure size 432x288 with 1 Axes>"
      ]
     },
     "metadata": {
      "needs_background": "light"
     },
     "output_type": "display_data"
    },
    {
     "name": "stdout",
     "output_type": "stream",
     "text": [
      "0    16792\n",
      "1    10149\n",
      "Name: hltindrg, dtype: int64\n"
     ]
    }
   ],
   "source": [
    "print(data_filtered.hltindrg.value_counts())\n",
    "\n",
    "#Visualize misuse status by Coverage for drug abuse treatment \n",
    "plt.figure()\n",
    "sns.heatmap(pd.crosstab(index=data_filtered.hltindrg, \n",
    "                        columns=[data_filtered.pnrnmlif]),\n",
    "            cmap=\"YlGnBu\", annot=True, fmt='.5g', cbar=False)\n",
    "plt.show()\n",
    "\n",
    "#Recode 2, 94, 97, 98, 99 as 0 (0 = No/unknown)\n",
    "data_filtered.loc[data_filtered['hltindrg'] == 2, 'hltindrg'] = 0\n",
    "data_filtered.loc[data_filtered['hltindrg'] == 94, 'hltindrg'] = 0\n",
    "data_filtered.loc[data_filtered['hltindrg'] == 97, 'hltindrg'] = 0\n",
    "data_filtered.loc[data_filtered['hltindrg'] == 98, 'hltindrg'] = 0\n",
    "data_filtered.loc[data_filtered['hltindrg'] == 99, 'hltindrg'] = 0\n",
    "\n",
    "print(data_filtered.hltindrg.value_counts())"
   ]
  },
  {
   "cell_type": "markdown",
   "id": "ce3e5dcb",
   "metadata": {},
   "source": [
    "### Mental Health Score (WHODASC2)\n",
    "This variable indicating the level of impairment for respondents is based on data collected from a series of thirteen questions asking respondents how much difficulty they experienced in doing eight daily activities in the one month in the past year when they were at their worst emotionally. These questions, drawn from the World Health Organization Disability Assessment Schedule (WHODAS).WHOSASC2 ranges from 0 (no difficulty) to 24 (severe difficulty)."
   ]
  },
  {
   "cell_type": "code",
   "execution_count": 32,
   "id": "18f1e795",
   "metadata": {},
   "outputs": [
    {
     "data": {
      "image/png": "[encoded data removed]",
      "text/plain": [
       "<Figure size 432x288 with 1 Axes>"
      ]
     },
     "metadata": {
      "needs_background": "light"
     },
     "output_type": "display_data"
    }
   ],
   "source": [
    "plt.figure()\n",
    "sns.boxplot(x = 'pnrnmlif', y = 'WHODASC2', data = data_filtered)\n",
    "plt.show()"
   ]
  },
  {
   "cell_type": "markdown",
   "id": "eb425554",
   "metadata": {},
   "source": [
    "### Serious psychological distress indicator (spdyr)\n",
    "* 0 = No\n",
    "* 1 = Yes"
   ]
  },
  {
   "cell_type": "code",
   "execution_count": 33,
   "id": "0758dfc1",
   "metadata": {},
   "outputs": [
    {
     "name": "stdout",
     "output_type": "stream",
     "text": [
      "0.0    22011\n",
      "1.0     4930\n",
      "Name: spdyr, dtype: int64\n"
     ]
    },
    {
     "data": {
      "image/png": "[encoded data removed]",
      "text/plain": [
       "<Figure size 432x288 with 1 Axes>"
      ]
     },
     "metadata": {
      "needs_background": "light"
     },
     "output_type": "display_data"
    }
   ],
   "source": [
    "print(data_filtered.spdyr.value_counts())\n",
    "\n",
    "#Visualize misuse status by Serious psychological distress indicator\n",
    "plt.figure()\n",
    "sns.heatmap(pd.crosstab(index=data_filtered.spdyr, \n",
    "                        columns=[data_filtered.pnrnmlif]),\n",
    "            cmap=\"YlGnBu\", annot=True, fmt='.5g', cbar=False)\n",
    "plt.show()\n"
   ]
  },
  {
   "cell_type": "markdown",
   "id": "3f502694",
   "metadata": {},
   "source": [
    "### Serious suicidal ideation indicator (mhsuithk)\n",
    "* 0 = No\n",
    "* 1 = Yes\n",
    "\n",
    "Missing values will be recoded as 0 (0=No/Unknown)"
   ]
  },
  {
   "cell_type": "code",
   "execution_count": 34,
   "id": "12f312da",
   "metadata": {},
   "outputs": [
    {
     "name": "stdout",
     "output_type": "stream",
     "text": [
      "0.0    24290\n",
      "1.0     1796\n",
      "Name: mhsuithk, dtype: int64\n"
     ]
    },
    {
     "data": {
      "image/png": "[encoded data removed]",
      "text/plain": [
       "<Figure size 432x288 with 1 Axes>"
      ]
     },
     "metadata": {
      "needs_background": "light"
     },
     "output_type": "display_data"
    }
   ],
   "source": [
    "print(data_filtered.mhsuithk.value_counts())\n",
    "\n",
    "#Visualize misuse status by Serious suicidal ideation indicator\n",
    "plt.figure()\n",
    "sns.heatmap(pd.crosstab(index=data_filtered.mhsuithk, \n",
    "                        columns=[data_filtered.pnrnmlif]),\n",
    "            cmap=\"YlGnBu\", annot=True, fmt='.5g', cbar=False)\n",
    "plt.show()\n"
   ]
  },
  {
   "cell_type": "code",
   "execution_count": 35,
   "id": "9d28d7c7",
   "metadata": {},
   "outputs": [
    {
     "data": {
      "text/plain": [
       "855"
      ]
     },
     "execution_count": 35,
     "metadata": {},
     "output_type": "execute_result"
    }
   ],
   "source": [
    "data_filtered.mhsuithk.isnull().sum()"
   ]
  },
  {
   "cell_type": "code",
   "execution_count": 36,
   "id": "abe87015",
   "metadata": {},
   "outputs": [
    {
     "data": {
      "text/plain": [
       "0"
      ]
     },
     "execution_count": 36,
     "metadata": {},
     "output_type": "execute_result"
    }
   ],
   "source": [
    "#Recode missing data\n",
    "data_filtered.mhsuithk=data_filtered.mhsuithk.fillna(0)\n",
    "data_filtered.mhsuithk.isnull().sum()"
   ]
  },
  {
   "cell_type": "markdown",
   "id": "3bbd3609",
   "metadata": {},
   "source": [
    "### Adult illicit drug or alcohol use disorder (UDYR5ILAL)\n",
    "* 0 = No\n",
    "* 1 = Yes"
   ]
  },
  {
   "cell_type": "code",
   "execution_count": 37,
   "id": "75458e08",
   "metadata": {},
   "outputs": [
    {
     "name": "stdout",
     "output_type": "stream",
     "text": [
      "0    22035\n",
      "1     4906\n",
      "Name: UDYR5ILAL, dtype: int64\n"
     ]
    },
    {
     "data": {
      "image/png": "[encoded data removed]",
      "text/plain": [
       "<Figure size 432x288 with 1 Axes>"
      ]
     },
     "metadata": {
      "needs_background": "light"
     },
     "output_type": "display_data"
    }
   ],
   "source": [
    "print(data_filtered.UDYR5ILAL.value_counts())\n",
    "\n",
    "#Visualize misuse status by Adult illicit drug or alcohol use disorder\n",
    "plt.figure()\n",
    "sns.heatmap(pd.crosstab(index=data_filtered.UDYR5ILAL, \n",
    "                        columns=[data_filtered.pnrnmlif]),\n",
    "            cmap=\"YlGnBu\", annot=True, fmt='.5g', cbar=False)\n",
    "plt.show()\n"
   ]
  },
  {
   "cell_type": "markdown",
   "id": "d8f2546b",
   "metadata": {},
   "source": [
    "### Adult lifetime major depressive disorder (amdelt)\n",
    "* 1 = Yes\n",
    "* 2 = No. This will be recoded as 0 (0=No/Unknown)"
   ]
  },
  {
   "cell_type": "code",
   "execution_count": 38,
   "id": "8cc5f7b4",
   "metadata": {
    "scrolled": true
   },
   "outputs": [
    {
     "name": "stdout",
     "output_type": "stream",
     "text": [
      "2.0    20767\n",
      "1.0     5198\n",
      "Name: amdelt, dtype: int64\n"
     ]
    },
    {
     "data": {
      "image/png": "[encoded data removed]",
      "text/plain": [
       "<Figure size 432x288 with 1 Axes>"
      ]
     },
     "metadata": {
      "needs_background": "light"
     },
     "output_type": "display_data"
    }
   ],
   "source": [
    "print(data_filtered.amdelt.value_counts())\n",
    "\n",
    "#Visualize misuse status by Adult lifetime major depressive disorder\n",
    "plt.figure()\n",
    "sns.heatmap(pd.crosstab(index=data_filtered.amdelt, \n",
    "                        columns=[data_filtered.pnrnmlif]),\n",
    "            cmap=\"YlGnBu\", annot=True, fmt='.5g', cbar=False)\n",
    "plt.show()\n",
    "\n",
    "#Recode 2 as 0 (0 = No/unknown)\n",
    "data_filtered.loc[data_filtered['amdelt'] == 2, 'amdelt'] = 0"
   ]
  },
  {
   "cell_type": "code",
   "execution_count": 39,
   "id": "cd62cd39",
   "metadata": {},
   "outputs": [
    {
     "data": {
      "text/plain": [
       "976"
      ]
     },
     "execution_count": 39,
     "metadata": {},
     "output_type": "execute_result"
    }
   ],
   "source": [
    "data_filtered.amdelt.isnull().sum()"
   ]
  },
  {
   "cell_type": "code",
   "execution_count": 40,
   "id": "c93446cf",
   "metadata": {},
   "outputs": [
    {
     "data": {
      "text/plain": [
       "0"
      ]
     },
     "execution_count": 40,
     "metadata": {},
     "output_type": "execute_result"
    }
   ],
   "source": [
    "##Recode missing data\n",
    "data_filtered.amdelt=data_filtered.amdelt.fillna(0)\n",
    "data_filtered.amdelt.isnull().sum()"
   ]
  },
  {
   "cell_type": "code",
   "execution_count": 45,
   "id": "6ce797d7",
   "metadata": {},
   "outputs": [],
   "source": [
    "filepath = \"C:/Users/kimng/Desktop/EDPY506/Final Project/data_filtered.csv\"\n",
    "data_filtered.to_csv(filepath) "
   ]
  }
 ],
 "metadata": {
  "kernelspec": {
   "display_name": "Python 3 (ipykernel)",
   "language": "python",
   "name": "python3"
  },
  "language_info": {
   "codemirror_mode": {
    "name": "ipython",
    "version": 3
   },
   "file_extension": ".py",
   "mimetype": "text/x-python",
   "name": "python",
   "nbconvert_exporter": "python",
   "pygments_lexer": "ipython3",
   "version": "3.8.8"
  }
 },
 "nbformat": 4,
 "nbformat_minor": 5
}
